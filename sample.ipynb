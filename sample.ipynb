{
 "cells": [
  {
   "metadata": {
    "ExecuteTime": {
     "end_time": "2025-07-03T13:31:38.849615Z",
     "start_time": "2025-07-03T13:31:34.837403Z"
    }
   },
   "cell_type": "code",
   "source": [
    "import pandas as pd\n",
    "import numpy as np\n",
    "import os\n",
    "from sklearn.model_selection import train_test_split\n",
    "from tensorflow.keras.preprocessing.image import ImageDataGenerator\n",
    "from tensorflow.keras.applications import EfficientNetB0\n",
    "from tensorflow.keras.layers import GlobalAveragePooling2D, Dense, Dropout, BatchNormalization\n",
    "from tensorflow.keras.models import Model\n",
    "from tensorflow.keras.optimizers import Adam\n",
    "from tensorflow.keras.losses import CategoricalCrossentropy\n",
    "from tensorflow.keras.callbacks import EarlyStopping, ReduceLROnPlateau\n",
    "from tensorflow.keras.applications.efficientnet import preprocess_input"
   ],
   "id": "9fab3de5030312d9",
   "outputs": [
    {
     "name": "stderr",
     "output_type": "stream",
     "text": [
      "/Users/hmelihalan/PycharmProjects/JupyterProject3/.venv/lib/python3.9/site-packages/urllib3/__init__.py:35: NotOpenSSLWarning: urllib3 v2 only supports OpenSSL 1.1.1+, currently the 'ssl' module is compiled with 'LibreSSL 2.8.3'. See: https://github.com/urllib3/urllib3/issues/3020\n",
      "  warnings.warn(\n"
     ]
    }
   ],
   "execution_count": 1
  },
  {
   "metadata": {
    "ExecuteTime": {
     "end_time": "2025-07-03T13:31:40.777693Z",
     "start_time": "2025-07-03T13:31:40.766051Z"
    }
   },
   "cell_type": "code",
   "source": [
    "df = pd.read_csv('/Users/hmelihalan/PycharmProjects/JupyterProject3/2025-bamboo-summer-competiton-dl-pr/train.csv')\n",
    "df['filename'] = df['filename'].astype(str)\n",
    "\n",
    "# Split with stratification\n",
    "train_df, val_df = train_test_split(df, test_size=0.2, stratify=df['label'], random_state=42)\n",
    "\n",
    "# UPDATED Data Augmentation with proper EfficientNet preprocessing\n",
    "train_datagen = ImageDataGenerator(\n",
    "    preprocessing_function=preprocess_input,  # REPLACED simple rescaling\n",
    "    rotation_range=20,\n",
    "    width_shift_range=0.1,\n",
    "    height_shift_range=0.1,\n",
    "    zoom_range=0.2,\n",
    "    horizontal_flip=True,\n",
    "    brightness_range=[0.9, 1.1]  # Added moderate brightness variation\n",
    ")\n",
    "\n",
    "val_datagen = ImageDataGenerator(\n",
    "    preprocessing_function=preprocess_input  # SAME preprocessing for validation\n",
    ")\n",
    "\n",
    "img_size = (224, 224)\n",
    "batch_size = 32"
   ],
   "id": "799cded18983fce6",
   "outputs": [],
   "execution_count": 2
  },
  {
   "metadata": {
    "ExecuteTime": {
     "end_time": "2025-07-03T13:31:45.532111Z",
     "start_time": "2025-07-03T13:31:45.491375Z"
    }
   },
   "cell_type": "code",
   "source": [
    "train_gen = train_datagen.flow_from_dataframe(\n",
    "    train_df,\n",
    "    directory='/Users/hmelihalan/PycharmProjects/JupyterProject3/2025-bamboo-summer-competiton-dl-pr/train',\n",
    "    x_col='filename',\n",
    "    y_col='label',\n",
    "    target_size=img_size,\n",
    "    class_mode='categorical',\n",
    "    batch_size=batch_size,\n",
    "    shuffle=True\n",
    ")\n",
    "\n",
    "val_gen = val_datagen.flow_from_dataframe(\n",
    "    val_df,\n",
    "    directory='/Users/hmelihalan/PycharmProjects/JupyterProject3/2025-bamboo-summer-competiton-dl-pr/train',\n",
    "    x_col='filename',\n",
    "    y_col='label',\n",
    "    target_size=img_size,\n",
    "    class_mode='categorical',\n",
    "    batch_size=batch_size,\n",
    "    shuffle=False  # Important for validation\n",
    ")"
   ],
   "id": "f64f430d828f5642",
   "outputs": [
    {
     "name": "stdout",
     "output_type": "stream",
     "text": [
      "Found 4159 validated image filenames belonging to 75 classes.\n",
      "Found 1040 validated image filenames belonging to 75 classes.\n"
     ]
    }
   ],
   "execution_count": 3
  },
  {
   "metadata": {
    "ExecuteTime": {
     "end_time": "2025-07-03T13:31:48.503954Z",
     "start_time": "2025-07-03T13:31:47.334047Z"
    }
   },
   "cell_type": "code",
   "source": [
    "num_classes = len(train_gen.class_indices)\n",
    "\n",
    "# Load base model\n",
    "base_model = EfficientNetB0(\n",
    "    include_top=False,\n",
    "    weights='imagenet',\n",
    "    input_shape=(224, 224, 3)\n",
    ")\n",
    "\n",
    "# NEW: Partial unfreezing (unfreeze top 100/237 layers)\n",
    "base_model.trainable = True\n",
    "for layer in base_model.layers[:137]:  # Freeze first 137 layers\n",
    "    layer.trainable = False\n",
    "\n",
    "# UPDATED Classifier head with BatchNorm and more dropout\n",
    "x = base_model.output\n",
    "x = GlobalAveragePooling2D()(x)\n",
    "x = BatchNormalization()(x)  # NEW\n",
    "x = Dropout(0.5)(x)  # Increased from 0.3\n",
    "x = Dense(256, activation='relu')(x)\n",
    "x = Dropout(0.3)(x)  # NEW additional dropout\n",
    "output = Dense(num_classes, activation='softmax')(x)\n",
    "\n",
    "model = Model(inputs=base_model.input, outputs=output)"
   ],
   "id": "8eaa90da96dd7196",
   "outputs": [
    {
     "name": "stderr",
     "output_type": "stream",
     "text": [
      "2025-07-03 16:31:47.338252: I metal_plugin/src/device/metal_device.cc:1154] Metal device set to: Apple M3\n",
      "2025-07-03 16:31:47.338292: I metal_plugin/src/device/metal_device.cc:296] systemMemory: 16.00 GB\n",
      "2025-07-03 16:31:47.338298: I metal_plugin/src/device/metal_device.cc:313] maxCacheSize: 5.33 GB\n",
      "2025-07-03 16:31:47.338320: I tensorflow/core/common_runtime/pluggable_device/pluggable_device_factory.cc:305] Could not identify NUMA node of platform GPU ID 0, defaulting to 0. Your kernel may not have been built with NUMA support.\n",
      "2025-07-03 16:31:47.338333: I tensorflow/core/common_runtime/pluggable_device/pluggable_device_factory.cc:271] Created TensorFlow device (/job:localhost/replica:0/task:0/device:GPU:0 with 0 MB memory) -> physical PluggableDevice (device: 0, name: METAL, pci bus id: <undefined>)\n"
     ]
    }
   ],
   "execution_count": 4
  },
  {
   "metadata": {
    "ExecuteTime": {
     "end_time": "2025-07-03T14:41:34.092696Z",
     "start_time": "2025-07-03T13:31:50.176224Z"
    }
   },
   "cell_type": "code",
   "source": [
    "model.compile(\n",
    "    optimizer=Adam(learning_rate=1e-3, clipvalue=0.5),  # Higher LR + clipping\n",
    "    loss=CategoricalCrossentropy(label_smoothing=0.1),\n",
    "    metrics=['accuracy']\n",
    ")\n",
    "\n",
    "# Callbacks remain the same\n",
    "early_stop = EarlyStopping(monitor='val_loss', patience=7, restore_best_weights=True)\n",
    "lr_reduce = ReduceLROnPlateau(monitor='val_loss', patience=3, factor=0.5, verbose=1)\n",
    "\n",
    "# First training phase\n",
    "print(\"Initial training with frozen base...\")\n",
    "history = model.fit(\n",
    "    train_gen,\n",
    "    validation_data=val_gen,\n",
    "    epochs=25,\n",
    "    callbacks=[early_stop, lr_reduce],\n",
    "    verbose=1\n",
    ")\n",
    "\n",
    "# NEW: Gradual unfreezing for fine-tuning\n",
    "print(\"\\nUnfreezing more layers...\")\n",
    "for layer in base_model.layers[100:]:\n",
    "    layer.trainable = True\n",
    "\n",
    "# Recompile with lower LR\n",
    "model.compile(\n",
    "    optimizer=Adam(learning_rate=1e-4),  # Reduced from 1e-5\n",
    "    loss=CategoricalCrossentropy(label_smoothing=0.05),\n",
    "    metrics=['accuracy']\n",
    ")\n",
    "\n",
    "# Fine-tuning phase\n",
    "print(\"Fine-tuning all unfrozen layers...\")\n",
    "history = model.fit(\n",
    "    train_gen,\n",
    "    validation_data=val_gen,\n",
    "    epochs=15,  # Increased from 5\n",
    "    callbacks=[early_stop, lr_reduce],\n",
    "    verbose=1\n",
    ")"
   ],
   "id": "95d5f0a4cdffd512",
   "outputs": [
    {
     "name": "stdout",
     "output_type": "stream",
     "text": [
      "Initial training with frozen base...\n"
     ]
    },
    {
     "name": "stderr",
     "output_type": "stream",
     "text": [
      "/Users/hmelihalan/PycharmProjects/JupyterProject3/.venv/lib/python3.9/site-packages/keras/src/trainers/data_adapters/py_dataset_adapter.py:121: UserWarning: Your `PyDataset` class should call `super().__init__(**kwargs)` in its constructor. `**kwargs` can include `workers`, `use_multiprocessing`, `max_queue_size`. Do not pass these arguments to `fit()`, as they will be ignored.\n",
      "  self._warn_if_super_not_called()\n"
     ]
    },
    {
     "name": "stdout",
     "output_type": "stream",
     "text": [
      "Epoch 1/25\n"
     ]
    },
    {
     "name": "stderr",
     "output_type": "stream",
     "text": [
      "2025-07-03 16:31:53.237481: I tensorflow/core/grappler/optimizers/custom_graph_optimizer_registry.cc:117] Plugin optimizer for device_type GPU is enabled.\n"
     ]
    },
    {
     "name": "stdout",
     "output_type": "stream",
     "text": [
      "\u001B[1m130/130\u001B[0m \u001B[32m━━━━━━━━━━━━━━━━━━━━\u001B[0m\u001B[37m\u001B[0m \u001B[1m78s\u001B[0m 509ms/step - accuracy: 0.2639 - loss: 4.6532 - val_accuracy: 0.7808 - val_loss: 1.6046 - learning_rate: 0.0010\n",
      "Epoch 2/25\n",
      "\u001B[1m130/130\u001B[0m \u001B[32m━━━━━━━━━━━━━━━━━━━━\u001B[0m\u001B[37m\u001B[0m \u001B[1m108s\u001B[0m 834ms/step - accuracy: 0.6773 - loss: 2.2587 - val_accuracy: 0.8212 - val_loss: 1.7275 - learning_rate: 0.0010\n",
      "Epoch 3/25\n",
      "\u001B[1m130/130\u001B[0m \u001B[32m━━━━━━━━━━━━━━━━━━━━\u001B[0m\u001B[37m\u001B[0m \u001B[1m103s\u001B[0m 786ms/step - accuracy: 0.7551 - loss: 1.9995 - val_accuracy: 0.8462 - val_loss: 1.8058 - learning_rate: 0.0010\n",
      "Epoch 4/25\n",
      "\u001B[1m130/130\u001B[0m \u001B[32m━━━━━━━━━━━━━━━━━━━━\u001B[0m\u001B[37m\u001B[0m \u001B[1m92s\u001B[0m 702ms/step - accuracy: 0.7830 - loss: 1.8520 - val_accuracy: 0.8913 - val_loss: 1.5479 - learning_rate: 0.0010\n",
      "Epoch 5/25\n",
      "\u001B[1m130/130\u001B[0m \u001B[32m━━━━━━━━━━━━━━━━━━━━\u001B[0m\u001B[37m\u001B[0m \u001B[1m97s\u001B[0m 739ms/step - accuracy: 0.8262 - loss: 1.6860 - val_accuracy: 0.8875 - val_loss: 1.5871 - learning_rate: 0.0010\n",
      "Epoch 6/25\n",
      "\u001B[1m130/130\u001B[0m \u001B[32m━━━━━━━━━━━━━━━━━━━━\u001B[0m\u001B[37m\u001B[0m \u001B[1m113s\u001B[0m 860ms/step - accuracy: 0.8487 - loss: 1.5653 - val_accuracy: 0.8933 - val_loss: 1.5671 - learning_rate: 0.0010\n",
      "Epoch 7/25\n",
      "\u001B[1m130/130\u001B[0m \u001B[32m━━━━━━━━━━━━━━━━━━━━\u001B[0m\u001B[37m\u001B[0m \u001B[1m102s\u001B[0m 782ms/step - accuracy: 0.8725 - loss: 1.4786 - val_accuracy: 0.9192 - val_loss: 1.4528 - learning_rate: 0.0010\n",
      "Epoch 8/25\n",
      "\u001B[1m130/130\u001B[0m \u001B[32m━━━━━━━━━━━━━━━━━━━━\u001B[0m\u001B[37m\u001B[0m \u001B[1m102s\u001B[0m 786ms/step - accuracy: 0.8726 - loss: 1.4403 - val_accuracy: 0.9115 - val_loss: 1.4287 - learning_rate: 0.0010\n",
      "Epoch 9/25\n",
      "\u001B[1m130/130\u001B[0m \u001B[32m━━━━━━━━━━━━━━━━━━━━\u001B[0m\u001B[37m\u001B[0m \u001B[1m104s\u001B[0m 799ms/step - accuracy: 0.8933 - loss: 1.3504 - val_accuracy: 0.9038 - val_loss: 1.3376 - learning_rate: 0.0010\n",
      "Epoch 10/25\n",
      "\u001B[1m130/130\u001B[0m \u001B[32m━━━━━━━━━━━━━━━━━━━━\u001B[0m\u001B[37m\u001B[0m \u001B[1m105s\u001B[0m 807ms/step - accuracy: 0.9015 - loss: 1.3156 - val_accuracy: 0.9154 - val_loss: 1.3587 - learning_rate: 0.0010\n",
      "Epoch 11/25\n",
      "\u001B[1m130/130\u001B[0m \u001B[32m━━━━━━━━━━━━━━━━━━━━\u001B[0m\u001B[37m\u001B[0m \u001B[1m105s\u001B[0m 806ms/step - accuracy: 0.9250 - loss: 1.2674 - val_accuracy: 0.9202 - val_loss: 1.3421 - learning_rate: 0.0010\n",
      "Epoch 12/25\n",
      "\u001B[1m130/130\u001B[0m \u001B[32m━━━━━━━━━━━━━━━━━━━━\u001B[0m\u001B[37m\u001B[0m \u001B[1m107s\u001B[0m 816ms/step - accuracy: 0.9207 - loss: 1.2648 - val_accuracy: 0.9048 - val_loss: 1.3296 - learning_rate: 0.0010\n",
      "Epoch 13/25\n",
      "\u001B[1m130/130\u001B[0m \u001B[32m━━━━━━━━━━━━━━━━━━━━\u001B[0m\u001B[37m\u001B[0m \u001B[1m102s\u001B[0m 781ms/step - accuracy: 0.9316 - loss: 1.2352 - val_accuracy: 0.9192 - val_loss: 1.2947 - learning_rate: 0.0010\n",
      "Epoch 14/25\n",
      "\u001B[1m130/130\u001B[0m \u001B[32m━━━━━━━━━━━━━━━━━━━━\u001B[0m\u001B[37m\u001B[0m \u001B[1m103s\u001B[0m 792ms/step - accuracy: 0.9257 - loss: 1.2184 - val_accuracy: 0.9346 - val_loss: 1.3031 - learning_rate: 0.0010\n",
      "Epoch 15/25\n",
      "\u001B[1m130/130\u001B[0m \u001B[32m━━━━━━━━━━━━━━━━━━━━\u001B[0m\u001B[37m\u001B[0m \u001B[1m110s\u001B[0m 838ms/step - accuracy: 0.9369 - loss: 1.1947 - val_accuracy: 0.9154 - val_loss: 1.3002 - learning_rate: 0.0010\n",
      "Epoch 16/25\n",
      "\u001B[1m130/130\u001B[0m \u001B[32m━━━━━━━━━━━━━━━━━━━━\u001B[0m\u001B[37m\u001B[0m \u001B[1m0s\u001B[0m 790ms/step - accuracy: 0.9455 - loss: 1.1679\n",
      "Epoch 16: ReduceLROnPlateau reducing learning rate to 0.0005000000237487257.\n",
      "\u001B[1m130/130\u001B[0m \u001B[32m━━━━━━━━━━━━━━━━━━━━\u001B[0m\u001B[37m\u001B[0m \u001B[1m112s\u001B[0m 856ms/step - accuracy: 0.9455 - loss: 1.1680 - val_accuracy: 0.9308 - val_loss: 1.3114 - learning_rate: 0.0010\n",
      "Epoch 17/25\n",
      "\u001B[1m130/130\u001B[0m \u001B[32m━━━━━━━━━━━━━━━━━━━━\u001B[0m\u001B[37m\u001B[0m \u001B[1m100s\u001B[0m 764ms/step - accuracy: 0.9569 - loss: 1.1228 - val_accuracy: 0.9413 - val_loss: 1.2136 - learning_rate: 5.0000e-04\n",
      "Epoch 18/25\n",
      "\u001B[1m130/130\u001B[0m \u001B[32m━━━━━━━━━━━━━━━━━━━━\u001B[0m\u001B[37m\u001B[0m \u001B[1m112s\u001B[0m 858ms/step - accuracy: 0.9704 - loss: 1.0827 - val_accuracy: 0.9308 - val_loss: 1.1847 - learning_rate: 5.0000e-04\n",
      "Epoch 19/25\n",
      "\u001B[1m130/130\u001B[0m \u001B[32m━━━━━━━━━━━━━━━━━━━━\u001B[0m\u001B[37m\u001B[0m \u001B[1m115s\u001B[0m 879ms/step - accuracy: 0.9664 - loss: 1.0596 - val_accuracy: 0.9394 - val_loss: 1.1705 - learning_rate: 5.0000e-04\n",
      "Epoch 20/25\n",
      "\u001B[1m130/130\u001B[0m \u001B[32m━━━━━━━━━━━━━━━━━━━━\u001B[0m\u001B[37m\u001B[0m \u001B[1m106s\u001B[0m 814ms/step - accuracy: 0.9772 - loss: 1.0425 - val_accuracy: 0.9375 - val_loss: 1.1486 - learning_rate: 5.0000e-04\n",
      "Epoch 21/25\n",
      "\u001B[1m130/130\u001B[0m \u001B[32m━━━━━━━━━━━━━━━━━━━━\u001B[0m\u001B[37m\u001B[0m \u001B[1m98s\u001B[0m 747ms/step - accuracy: 0.9760 - loss: 1.0269 - val_accuracy: 0.9356 - val_loss: 1.1659 - learning_rate: 5.0000e-04\n",
      "Epoch 22/25\n",
      "\u001B[1m130/130\u001B[0m \u001B[32m━━━━━━━━━━━━━━━━━━━━\u001B[0m\u001B[37m\u001B[0m \u001B[1m106s\u001B[0m 809ms/step - accuracy: 0.9791 - loss: 1.0250 - val_accuracy: 0.9337 - val_loss: 1.1430 - learning_rate: 5.0000e-04\n",
      "Epoch 23/25\n",
      "\u001B[1m130/130\u001B[0m \u001B[32m━━━━━━━━━━━━━━━━━━━━\u001B[0m\u001B[37m\u001B[0m \u001B[1m104s\u001B[0m 796ms/step - accuracy: 0.9835 - loss: 1.0090 - val_accuracy: 0.9394 - val_loss: 1.1624 - learning_rate: 5.0000e-04\n",
      "Epoch 24/25\n",
      "\u001B[1m130/130\u001B[0m \u001B[32m━━━━━━━━━━━━━━━━━━━━\u001B[0m\u001B[37m\u001B[0m \u001B[1m109s\u001B[0m 833ms/step - accuracy: 0.9868 - loss: 0.9854 - val_accuracy: 0.9404 - val_loss: 1.1544 - learning_rate: 5.0000e-04\n",
      "Epoch 25/25\n",
      "\u001B[1m130/130\u001B[0m \u001B[32m━━━━━━━━━━━━━━━━━━━━\u001B[0m\u001B[37m\u001B[0m \u001B[1m0s\u001B[0m 850ms/step - accuracy: 0.9852 - loss: 0.9844\n",
      "Epoch 25: ReduceLROnPlateau reducing learning rate to 0.0002500000118743628.\n",
      "\u001B[1m130/130\u001B[0m \u001B[32m━━━━━━━━━━━━━━━━━━━━\u001B[0m\u001B[37m\u001B[0m \u001B[1m121s\u001B[0m 926ms/step - accuracy: 0.9852 - loss: 0.9844 - val_accuracy: 0.9356 - val_loss: 1.1674 - learning_rate: 5.0000e-04\n",
      "\n",
      "Unfreezing more layers...\n",
      "Fine-tuning all unfrozen layers...\n",
      "Epoch 1/15\n",
      "\u001B[1m130/130\u001B[0m \u001B[32m━━━━━━━━━━━━━━━━━━━━\u001B[0m\u001B[37m\u001B[0m \u001B[1m152s\u001B[0m 1s/step - accuracy: 0.9805 - loss: 0.6159 - val_accuracy: 0.9404 - val_loss: 0.7447 - learning_rate: 1.0000e-04\n",
      "Epoch 2/15\n",
      "\u001B[1m130/130\u001B[0m \u001B[32m━━━━━━━━━━━━━━━━━━━━\u001B[0m\u001B[37m\u001B[0m \u001B[1m109s\u001B[0m 830ms/step - accuracy: 0.9859 - loss: 0.5783 - val_accuracy: 0.9365 - val_loss: 0.7421 - learning_rate: 1.0000e-04\n",
      "Epoch 3/15\n",
      "\u001B[1m130/130\u001B[0m \u001B[32m━━━━━━━━━━━━━━━━━━━━\u001B[0m\u001B[37m\u001B[0m \u001B[1m107s\u001B[0m 820ms/step - accuracy: 0.9906 - loss: 0.5693 - val_accuracy: 0.9394 - val_loss: 0.7425 - learning_rate: 1.0000e-04\n",
      "Epoch 4/15\n",
      "\u001B[1m130/130\u001B[0m \u001B[32m━━━━━━━━━━━━━━━━━━━━\u001B[0m\u001B[37m\u001B[0m \u001B[1m109s\u001B[0m 830ms/step - accuracy: 0.9879 - loss: 0.5706 - val_accuracy: 0.9413 - val_loss: 0.7511 - learning_rate: 1.0000e-04\n",
      "Epoch 5/15\n",
      "\u001B[1m130/130\u001B[0m \u001B[32m━━━━━━━━━━━━━━━━━━━━\u001B[0m\u001B[37m\u001B[0m \u001B[1m0s\u001B[0m 774ms/step - accuracy: 0.9853 - loss: 0.5702\n",
      "Epoch 5: ReduceLROnPlateau reducing learning rate to 4.999999873689376e-05.\n",
      "\u001B[1m130/130\u001B[0m \u001B[32m━━━━━━━━━━━━━━━━━━━━\u001B[0m\u001B[37m\u001B[0m \u001B[1m109s\u001B[0m 836ms/step - accuracy: 0.9854 - loss: 0.5701 - val_accuracy: 0.9404 - val_loss: 0.7578 - learning_rate: 1.0000e-04\n",
      "Epoch 6/15\n",
      "\u001B[1m130/130\u001B[0m \u001B[32m━━━━━━━━━━━━━━━━━━━━\u001B[0m\u001B[37m\u001B[0m \u001B[1m111s\u001B[0m 846ms/step - accuracy: 0.9899 - loss: 0.5539 - val_accuracy: 0.9404 - val_loss: 0.7439 - learning_rate: 5.0000e-05\n",
      "Epoch 7/15\n",
      "\u001B[1m130/130\u001B[0m \u001B[32m━━━━━━━━━━━━━━━━━━━━\u001B[0m\u001B[37m\u001B[0m \u001B[1m111s\u001B[0m 853ms/step - accuracy: 0.9937 - loss: 0.5496 - val_accuracy: 0.9423 - val_loss: 0.7441 - learning_rate: 5.0000e-05\n",
      "Epoch 8/15\n",
      "\u001B[1m130/130\u001B[0m \u001B[32m━━━━━━━━━━━━━━━━━━━━\u001B[0m\u001B[37m\u001B[0m \u001B[1m119s\u001B[0m 913ms/step - accuracy: 0.9873 - loss: 0.5560 - val_accuracy: 0.9385 - val_loss: 0.7342 - learning_rate: 5.0000e-05\n",
      "Epoch 9/15\n",
      "\u001B[1m130/130\u001B[0m \u001B[32m━━━━━━━━━━━━━━━━━━━━\u001B[0m\u001B[37m\u001B[0m \u001B[1m116s\u001B[0m 882ms/step - accuracy: 0.9923 - loss: 0.5488 - val_accuracy: 0.9394 - val_loss: 0.7317 - learning_rate: 5.0000e-05\n",
      "Epoch 10/15\n",
      "\u001B[1m130/130\u001B[0m \u001B[32m━━━━━━━━━━━━━━━━━━━━\u001B[0m\u001B[37m\u001B[0m \u001B[1m116s\u001B[0m 878ms/step - accuracy: 0.9919 - loss: 0.5522 - val_accuracy: 0.9375 - val_loss: 0.7309 - learning_rate: 5.0000e-05\n",
      "Epoch 11/15\n",
      "\u001B[1m130/130\u001B[0m \u001B[32m━━━━━━━━━━━━━━━━━━━━\u001B[0m\u001B[37m\u001B[0m \u001B[1m88s\u001B[0m 667ms/step - accuracy: 0.9957 - loss: 0.5368 - val_accuracy: 0.9375 - val_loss: 0.7368 - learning_rate: 5.0000e-05\n",
      "Epoch 12/15\n",
      "\u001B[1m130/130\u001B[0m \u001B[32m━━━━━━━━━━━━━━━━━━━━\u001B[0m\u001B[37m\u001B[0m \u001B[1m80s\u001B[0m 612ms/step - accuracy: 0.9939 - loss: 0.5458 - val_accuracy: 0.9356 - val_loss: 0.7358 - learning_rate: 5.0000e-05\n",
      "Epoch 13/15\n",
      "\u001B[1m130/130\u001B[0m \u001B[32m━━━━━━━━━━━━━━━━━━━━\u001B[0m\u001B[37m\u001B[0m \u001B[1m0s\u001B[0m 515ms/step - accuracy: 0.9935 - loss: 0.5446\n",
      "Epoch 13: ReduceLROnPlateau reducing learning rate to 2.499999936844688e-05.\n",
      "\u001B[1m130/130\u001B[0m \u001B[32m━━━━━━━━━━━━━━━━━━━━\u001B[0m\u001B[37m\u001B[0m \u001B[1m73s\u001B[0m 556ms/step - accuracy: 0.9935 - loss: 0.5446 - val_accuracy: 0.9375 - val_loss: 0.7422 - learning_rate: 5.0000e-05\n",
      "Epoch 14/15\n",
      "\u001B[1m130/130\u001B[0m \u001B[32m━━━━━━━━━━━━━━━━━━━━\u001B[0m\u001B[37m\u001B[0m \u001B[1m84s\u001B[0m 645ms/step - accuracy: 0.9942 - loss: 0.5388 - val_accuracy: 0.9385 - val_loss: 0.7374 - learning_rate: 2.5000e-05\n",
      "Epoch 15/15\n",
      "\u001B[1m130/130\u001B[0m \u001B[32m━━━━━━━━━━━━━━━━━━━━\u001B[0m\u001B[37m\u001B[0m \u001B[1m81s\u001B[0m 617ms/step - accuracy: 0.9943 - loss: 0.5354 - val_accuracy: 0.9385 - val_loss: 0.7371 - learning_rate: 2.5000e-05\n"
     ]
    }
   ],
   "execution_count": 5
  },
  {
   "metadata": {
    "ExecuteTime": {
     "end_time": "2025-07-03T14:42:28.632679Z",
     "start_time": "2025-07-03T14:42:16.612653Z"
    }
   },
   "cell_type": "code",
   "source": [
    "test_csv = pd.read_csv('/Users/hmelihalan/PycharmProjects/JupyterProject3/2025-bamboo-summer-competiton-dl-pr/test.csv')\n",
    "\n",
    "test_gen = val_datagen.flow_from_dataframe(\n",
    "    test_csv,\n",
    "    directory='/Users/hmelihalan/PycharmProjects/JupyterProject3/2025-bamboo-summer-competiton-dl-pr/test',\n",
    "    x_col='filename',\n",
    "    y_col=None,\n",
    "    target_size=img_size,\n",
    "    class_mode=None,\n",
    "    batch_size=batch_size,\n",
    "    shuffle=False\n",
    ")\n",
    "\n",
    "preds = model.predict(test_gen)\n",
    "predicted_indices = np.argmax(preds, axis=1)\n",
    "\n",
    "label_map = {v: k for k, v in train_gen.class_indices.items()}\n",
    "predicted_labels = [label_map[i] for i in predicted_indices]\n",
    "\n",
    "submission_df = test_csv.copy()\n",
    "submission_df['label'] = predicted_labels\n",
    "submission_df.to_csv('submission.csv', index=False)"
   ],
   "id": "3ba7be84a29d392e",
   "outputs": [
    {
     "name": "stdout",
     "output_type": "stream",
     "text": [
      "Found 1300 validated image filenames.\n"
     ]
    },
    {
     "name": "stderr",
     "output_type": "stream",
     "text": [
      "/Users/hmelihalan/PycharmProjects/JupyterProject3/.venv/lib/python3.9/site-packages/keras/src/trainers/data_adapters/py_dataset_adapter.py:121: UserWarning: Your `PyDataset` class should call `super().__init__(**kwargs)` in its constructor. `**kwargs` can include `workers`, `use_multiprocessing`, `max_queue_size`. Do not pass these arguments to `fit()`, as they will be ignored.\n",
      "  self._warn_if_super_not_called()\n"
     ]
    },
    {
     "name": "stdout",
     "output_type": "stream",
     "text": [
      "\u001B[1m41/41\u001B[0m \u001B[32m━━━━━━━━━━━━━━━━━━━━\u001B[0m\u001B[37m\u001B[0m \u001B[1m12s\u001B[0m 211ms/step\n"
     ]
    }
   ],
   "execution_count": 8
  }
 ],
 "metadata": {
  "kernelspec": {
   "display_name": "Python 3",
   "language": "python",
   "name": "python3"
  },
  "language_info": {
   "codemirror_mode": {
    "name": "ipython",
    "version": 2
   },
   "file_extension": ".py",
   "mimetype": "text/x-python",
   "name": "python",
   "nbconvert_exporter": "python",
   "pygments_lexer": "ipython2",
   "version": "2.7.6"
  }
 },
 "nbformat": 4,
 "nbformat_minor": 5
}
